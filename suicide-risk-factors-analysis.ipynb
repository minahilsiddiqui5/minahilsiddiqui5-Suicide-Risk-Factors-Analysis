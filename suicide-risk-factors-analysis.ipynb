{
 "cells": [
  {
   "cell_type": "code",
   "execution_count": 1,
   "id": "39b3185a",
   "metadata": {
    "_cell_guid": "b1076dfc-b9ad-4769-8c92-a6c4dae69d19",
    "_uuid": "8f2839f25d086af736a60e9eeb907d3b93b6e0e5",
    "execution": {
     "iopub.execute_input": "2024-03-19T06:22:33.405152Z",
     "iopub.status.busy": "2024-03-19T06:22:33.404103Z",
     "iopub.status.idle": "2024-03-19T06:22:34.542063Z",
     "shell.execute_reply": "2024-03-19T06:22:34.540705Z"
    },
    "papermill": {
     "duration": 1.156951,
     "end_time": "2024-03-19T06:22:34.544948",
     "exception": false,
     "start_time": "2024-03-19T06:22:33.387997",
     "status": "completed"
    },
    "tags": []
   },
   "outputs": [
    {
     "name": "stdout",
     "output_type": "stream",
     "text": [
      "/kaggle/input/suicides-risk-factors/death-rate-from-suicides-gho new.csv\n"
     ]
    }
   ],
   "source": [
    "# This Python 3 environment comes with many helpful analytics libraries installed\n",
    "# It is defined by the kaggle/python Docker image: https://github.com/kaggle/docker-python\n",
    "# For example, here's several helpful packages to load\n",
    "\n",
    "import numpy as np # linear algebra\n",
    "import pandas as pd # data processing, CSV file I/O (e.g. pd.read_csv)\n",
    "\n",
    "# Input data files are available in the read-only \"../input/\" directory\n",
    "# For example, running this (by clicking run or pressing Shift+Enter) will list all files under the input directory\n",
    "\n",
    "import os\n",
    "for dirname, _, filenames in os.walk('/kaggle/input'):\n",
    "    for filename in filenames:\n",
    "        print(os.path.join(dirname, filename))\n",
    "\n",
    "# You can write up to 20GB to the current directory (/kaggle/working/) that gets preserved as output when you create a version using \"Save & Run All\" \n",
    "# You can also write temporary files to /kaggle/temp/, but they won't be saved outside of the current session"
   ]
  },
  {
   "cell_type": "code",
   "execution_count": null,
   "id": "f3b421d2",
   "metadata": {
    "papermill": {
     "duration": 0.013323,
     "end_time": "2024-03-19T06:22:34.570668",
     "exception": false,
     "start_time": "2024-03-19T06:22:34.557345",
     "status": "completed"
    },
    "tags": []
   },
   "outputs": [],
   "source": []
  },
  {
   "cell_type": "markdown",
   "id": "2b98e0a7",
   "metadata": {
    "papermill": {
     "duration": 0.01158,
     "end_time": "2024-03-19T06:22:34.594580",
     "exception": false,
     "start_time": "2024-03-19T06:22:34.583000",
     "status": "completed"
    },
    "tags": []
   },
   "source": [
    "# Preliminary Data Exploration\n",
    "When we first load a dataset and begin to understand its structure, content, and the types of data it contains, this process is typically referred to as \"Preliminary Data Exploration\". This initial phase includes checking for missing values, understanding data types, and getting a sense of the distribution and scale of your data."
   ]
  },
  {
   "cell_type": "markdown",
   "id": "e2ab739d",
   "metadata": {
    "papermill": {
     "duration": 0.011581,
     "end_time": "2024-03-19T06:22:34.618162",
     "exception": false,
     "start_time": "2024-03-19T06:22:34.606581",
     "status": "completed"
    },
    "tags": []
   },
   "source": [
    "### Load the dataset"
   ]
  },
  {
   "cell_type": "code",
   "execution_count": 2,
   "id": "3cd39768",
   "metadata": {
    "execution": {
     "iopub.execute_input": "2024-03-19T06:22:34.644919Z",
     "iopub.status.busy": "2024-03-19T06:22:34.644297Z",
     "iopub.status.idle": "2024-03-19T06:22:34.681867Z",
     "shell.execute_reply": "2024-03-19T06:22:34.680833Z"
    },
    "papermill": {
     "duration": 0.054418,
     "end_time": "2024-03-19T06:22:34.684768",
     "exception": false,
     "start_time": "2024-03-19T06:22:34.630350",
     "status": "completed"
    },
    "tags": []
   },
   "outputs": [],
   "source": [
    "suicide_data = pd.read_csv('/kaggle/input/suicides-risk-factors/death-rate-from-suicides-gho new.csv',index_col=0)"
   ]
  },
  {
   "cell_type": "code",
   "execution_count": 3,
   "id": "f06ded97",
   "metadata": {
    "execution": {
     "iopub.execute_input": "2024-03-19T06:22:34.711563Z",
     "iopub.status.busy": "2024-03-19T06:22:34.710702Z",
     "iopub.status.idle": "2024-03-19T06:22:34.733355Z",
     "shell.execute_reply": "2024-03-19T06:22:34.732107Z"
    },
    "papermill": {
     "duration": 0.039019,
     "end_time": "2024-03-19T06:22:34.736002",
     "exception": false,
     "start_time": "2024-03-19T06:22:34.696983",
     "status": "completed"
    },
    "tags": []
   },
   "outputs": [
    {
     "data": {
      "text/html": [
       "<div>\n",
       "<style scoped>\n",
       "    .dataframe tbody tr th:only-of-type {\n",
       "        vertical-align: middle;\n",
       "    }\n",
       "\n",
       "    .dataframe tbody tr th {\n",
       "        vertical-align: top;\n",
       "    }\n",
       "\n",
       "    .dataframe thead th {\n",
       "        text-align: right;\n",
       "    }\n",
       "</style>\n",
       "<table border=\"1\" class=\"dataframe\">\n",
       "  <thead>\n",
       "    <tr style=\"text-align: right;\">\n",
       "      <th></th>\n",
       "      <th>Code</th>\n",
       "      <th>Year</th>\n",
       "      <th>Age-standardized suicide rate - Sex: both sexes</th>\n",
       "    </tr>\n",
       "    <tr>\n",
       "      <th>Entity</th>\n",
       "      <th></th>\n",
       "      <th></th>\n",
       "      <th></th>\n",
       "    </tr>\n",
       "  </thead>\n",
       "  <tbody>\n",
       "    <tr>\n",
       "      <th>Belize</th>\n",
       "      <td>BLZ</td>\n",
       "      <td>2000</td>\n",
       "      <td>10.0134</td>\n",
       "    </tr>\n",
       "    <tr>\n",
       "      <th>United States</th>\n",
       "      <td>USA</td>\n",
       "      <td>2000</td>\n",
       "      <td>10.0171</td>\n",
       "    </tr>\n",
       "    <tr>\n",
       "      <th>Uzbekistan</th>\n",
       "      <td>UZB</td>\n",
       "      <td>2000</td>\n",
       "      <td>12.0487</td>\n",
       "    </tr>\n",
       "    <tr>\n",
       "      <th>Ireland</th>\n",
       "      <td>IRL</td>\n",
       "      <td>2000</td>\n",
       "      <td>12.0547</td>\n",
       "    </tr>\n",
       "    <tr>\n",
       "      <th>Djibouti</th>\n",
       "      <td>DJI</td>\n",
       "      <td>2000</td>\n",
       "      <td>12.0624</td>\n",
       "    </tr>\n",
       "    <tr>\n",
       "      <th>Pakistan</th>\n",
       "      <td>PAK</td>\n",
       "      <td>2000</td>\n",
       "      <td>11.1006</td>\n",
       "    </tr>\n",
       "    <tr>\n",
       "      <th>Gambia</th>\n",
       "      <td>GMB</td>\n",
       "      <td>2000</td>\n",
       "      <td>11.1432</td>\n",
       "    </tr>\n",
       "    <tr>\n",
       "      <th>Germany</th>\n",
       "      <td>DEU</td>\n",
       "      <td>2000</td>\n",
       "      <td>11.1552</td>\n",
       "    </tr>\n",
       "    <tr>\n",
       "      <th>Sierra Leone</th>\n",
       "      <td>SLE</td>\n",
       "      <td>2000</td>\n",
       "      <td>10.133</td>\n",
       "    </tr>\n",
       "    <tr>\n",
       "      <th>Luxembourg</th>\n",
       "      <td>LUX</td>\n",
       "      <td>2000</td>\n",
       "      <td>13.446</td>\n",
       "    </tr>\n",
       "    <tr>\n",
       "      <th>Western Pacific</th>\n",
       "      <td>0</td>\n",
       "      <td>2000</td>\n",
       "      <td>14.043</td>\n",
       "    </tr>\n",
       "    <tr>\n",
       "      <th>China</th>\n",
       "      <td>CHN</td>\n",
       "      <td>2000</td>\n",
       "      <td>14.852</td>\n",
       "    </tr>\n",
       "    <tr>\n",
       "      <th>South-East Asia</th>\n",
       "      <td>0</td>\n",
       "      <td>2000</td>\n",
       "      <td>15.108</td>\n",
       "    </tr>\n",
       "    <tr>\n",
       "      <th>Poland</th>\n",
       "      <td>POL</td>\n",
       "      <td>2000</td>\n",
       "      <td>15.305</td>\n",
       "    </tr>\n",
       "    <tr>\n",
       "      <th>Switzerland</th>\n",
       "      <td>CHE</td>\n",
       "      <td>2000</td>\n",
       "      <td>15.885</td>\n",
       "    </tr>\n",
       "    <tr>\n",
       "      <th>Solomon Islands</th>\n",
       "      <td>SLB</td>\n",
       "      <td>2000</td>\n",
       "      <td>17.374</td>\n",
       "    </tr>\n",
       "    <tr>\n",
       "      <th>Cameroon</th>\n",
       "      <td>CMR</td>\n",
       "      <td>2000</td>\n",
       "      <td>19.124</td>\n",
       "    </tr>\n",
       "    <tr>\n",
       "      <th>Burundi</th>\n",
       "      <td>BDI</td>\n",
       "      <td>2000</td>\n",
       "      <td>23.428</td>\n",
       "    </tr>\n",
       "    <tr>\n",
       "      <th>Sri Lanka</th>\n",
       "      <td>LKA</td>\n",
       "      <td>2000</td>\n",
       "      <td>27.425</td>\n",
       "    </tr>\n",
       "    <tr>\n",
       "      <th>Lesotho</th>\n",
       "      <td>LSO</td>\n",
       "      <td>2000</td>\n",
       "      <td>42.604</td>\n",
       "    </tr>\n",
       "  </tbody>\n",
       "</table>\n",
       "</div>"
      ],
      "text/plain": [
       "                Code  Year Age-standardized suicide rate - Sex: both sexes\n",
       "Entity                                                                    \n",
       "Belize           BLZ  2000                                         10.0134\n",
       "United States    USA  2000                                         10.0171\n",
       "Uzbekistan       UZB  2000                                         12.0487\n",
       "Ireland          IRL  2000                                         12.0547\n",
       "Djibouti         DJI  2000                                         12.0624\n",
       "Pakistan         PAK  2000                                         11.1006\n",
       "Gambia           GMB  2000                                         11.1432\n",
       "Germany          DEU  2000                                         11.1552\n",
       "Sierra Leone     SLE  2000                                          10.133\n",
       "Luxembourg       LUX  2000                                          13.446\n",
       "Western Pacific    0  2000                                          14.043\n",
       "China            CHN  2000                                          14.852\n",
       "South-East Asia    0  2000                                          15.108\n",
       "Poland           POL  2000                                          15.305\n",
       "Switzerland      CHE  2000                                          15.885\n",
       "Solomon Islands  SLB  2000                                          17.374\n",
       "Cameroon         CMR  2000                                          19.124\n",
       "Burundi          BDI  2000                                          23.428\n",
       "Sri Lanka        LKA  2000                                          27.425\n",
       "Lesotho          LSO  2000                                          42.604"
      ]
     },
     "execution_count": 3,
     "metadata": {},
     "output_type": "execute_result"
    }
   ],
   "source": [
    "suicide_data .head(20)"
   ]
  },
  {
   "cell_type": "markdown",
   "id": "98c7025d",
   "metadata": {
    "papermill": {
     "duration": 0.012122,
     "end_time": "2024-03-19T06:22:34.760590",
     "exception": false,
     "start_time": "2024-03-19T06:22:34.748468",
     "status": "completed"
    },
    "tags": []
   },
   "source": [
    "The column **Age-standardized suicide rate - Sex** : both sexes represents the rate of suicides per 100,000 individuals in the population, with adjustments made to account for age differences. Age-standardization is a statistical process used to allow populations with different age structures to be compared. Here’s why it’s important:\n",
    "\n",
    "Comparability: Different countries may have different age distributions. Without standardization, a country with an older population might naturally have a higher suicide rate because the risk of suicide tends to increase with age. Standardization removes this age distribution effect.\n",
    "\n",
    "Sex: Both Sexes: This rate combines data for all genders, providing an overall picture of the suicide rate that is not specific to male or female populations."
   ]
  },
  {
   "cell_type": "code",
   "execution_count": 4,
   "id": "7b98a8ce",
   "metadata": {
    "execution": {
     "iopub.execute_input": "2024-03-19T06:22:34.789647Z",
     "iopub.status.busy": "2024-03-19T06:22:34.788922Z",
     "iopub.status.idle": "2024-03-19T06:22:34.818863Z",
     "shell.execute_reply": "2024-03-19T06:22:34.817445Z"
    },
    "papermill": {
     "duration": 0.047345,
     "end_time": "2024-03-19T06:22:34.821946",
     "exception": false,
     "start_time": "2024-03-19T06:22:34.774601",
     "status": "completed"
    },
    "tags": []
   },
   "outputs": [
    {
     "name": "stdout",
     "output_type": "stream",
     "text": [
      "<class 'pandas.core.frame.DataFrame'>\n",
      "Index: 3876 entries, Belize to Norway\n",
      "Data columns (total 3 columns):\n",
      " #   Column                                           Non-Null Count  Dtype \n",
      "---  ------                                           --------------  ----- \n",
      " 0   Code                                             3876 non-null   object\n",
      " 1   Year                                             3876 non-null   int64 \n",
      " 2   Age-standardized suicide rate - Sex: both sexes  3876 non-null   object\n",
      "dtypes: int64(1), object(2)\n",
      "memory usage: 121.1+ KB\n"
     ]
    }
   ],
   "source": [
    "suicide_data.info()\n"
   ]
  },
  {
   "cell_type": "markdown",
   "id": "cbe77fde",
   "metadata": {
    "papermill": {
     "duration": 0.011714,
     "end_time": "2024-03-19T06:22:34.845821",
     "exception": false,
     "start_time": "2024-03-19T06:22:34.834107",
     "status": "completed"
    },
    "tags": []
   },
   "source": [
    "**Index**: The DataFrame has 3876 entries. This means there are 3876 rows of data. The index range starts from 'Belize' and ends at 'Norway', which suggests that the data might be sorted or indexed by country name.\n",
    "\n",
    "**Columns**: There are three columns in the DataFrame.\n",
    "\n",
    "**Code**: This column contains non-null object-type data, meaning all 3876 rows have a country code, and it’s formatted as text (string).\n",
    "\n",
    "**Year**: This column is completely populated with 3876 non-null integer values, denoting the year associated with each entry.\n",
    "\n",
    "**Age-standardized suicide rate - Sex**: both sexes: This column also has 3876 non-null entries but is of the object type, which could indicate the presence of non-numeric characters, or it's simply read as a string"
   ]
  },
  {
   "cell_type": "code",
   "execution_count": 5,
   "id": "e0b5f88a",
   "metadata": {
    "execution": {
     "iopub.execute_input": "2024-03-19T06:22:34.872237Z",
     "iopub.status.busy": "2024-03-19T06:22:34.871765Z",
     "iopub.status.idle": "2024-03-19T06:22:34.893271Z",
     "shell.execute_reply": "2024-03-19T06:22:34.891804Z"
    },
    "papermill": {
     "duration": 0.038085,
     "end_time": "2024-03-19T06:22:34.895950",
     "exception": false,
     "start_time": "2024-03-19T06:22:34.857865",
     "status": "completed"
    },
    "tags": []
   },
   "outputs": [
    {
     "data": {
      "text/html": [
       "<div>\n",
       "<style scoped>\n",
       "    .dataframe tbody tr th:only-of-type {\n",
       "        vertical-align: middle;\n",
       "    }\n",
       "\n",
       "    .dataframe tbody tr th {\n",
       "        vertical-align: top;\n",
       "    }\n",
       "\n",
       "    .dataframe thead th {\n",
       "        text-align: right;\n",
       "    }\n",
       "</style>\n",
       "<table border=\"1\" class=\"dataframe\">\n",
       "  <thead>\n",
       "    <tr style=\"text-align: right;\">\n",
       "      <th></th>\n",
       "      <th>Year</th>\n",
       "    </tr>\n",
       "  </thead>\n",
       "  <tbody>\n",
       "    <tr>\n",
       "      <th>count</th>\n",
       "      <td>3876.000000</td>\n",
       "    </tr>\n",
       "    <tr>\n",
       "      <th>mean</th>\n",
       "      <td>2009.490196</td>\n",
       "    </tr>\n",
       "    <tr>\n",
       "      <th>std</th>\n",
       "      <td>5.761913</td>\n",
       "    </tr>\n",
       "    <tr>\n",
       "      <th>min</th>\n",
       "      <td>2000.000000</td>\n",
       "    </tr>\n",
       "    <tr>\n",
       "      <th>25%</th>\n",
       "      <td>2004.000000</td>\n",
       "    </tr>\n",
       "    <tr>\n",
       "      <th>50%</th>\n",
       "      <td>2009.000000</td>\n",
       "    </tr>\n",
       "    <tr>\n",
       "      <th>75%</th>\n",
       "      <td>2014.000000</td>\n",
       "    </tr>\n",
       "    <tr>\n",
       "      <th>max</th>\n",
       "      <td>2019.000000</td>\n",
       "    </tr>\n",
       "  </tbody>\n",
       "</table>\n",
       "</div>"
      ],
      "text/plain": [
       "              Year\n",
       "count  3876.000000\n",
       "mean   2009.490196\n",
       "std       5.761913\n",
       "min    2000.000000\n",
       "25%    2004.000000\n",
       "50%    2009.000000\n",
       "75%    2014.000000\n",
       "max    2019.000000"
      ]
     },
     "execution_count": 5,
     "metadata": {},
     "output_type": "execute_result"
    }
   ],
   "source": [
    "suicide_data.describe()"
   ]
  },
  {
   "cell_type": "markdown",
   "id": "3582a247",
   "metadata": {
    "papermill": {
     "duration": 0.011925,
     "end_time": "2024-03-19T06:22:34.920189",
     "exception": false,
     "start_time": "2024-03-19T06:22:34.908264",
     "status": "completed"
    },
    "tags": []
   },
   "source": [
    "Explanation of the output:\n",
    "- **Count**: There are 3876 entries in the 'Year' column, which matches the total number of rows in the DataFrame, indicating there are no missing values in this column.\n",
    "\n",
    "- **Mean**: The average year across all entries is approximately 2009.49. This suggests that the data is centered around the late-2000s to early-2010s.\n",
    "\n",
    "- **Std (Standard Deviation)**: The standard deviation is about 5.76 years, which indicates how much the years vary from the average (mean) year.\n",
    "\n",
    "- **Min (Minimum)**: The earliest year in the dataset is 2000.\n",
    "\n",
    "- **25% (25th Percentile)**: At least 25% of the entries are from the year 2004 or earlier. This is the first quartile of the data.\n",
    "\n",
    "- **50% (Median, 50th Percentile)**: The median year is 2009, meaning that half of the entries are from before 2009, and half are from after.\n",
    "\n",
    "- **75% (75th Percentile)**: At least 75% of the entries are from the year 2014 or earlier. This is the third quartile.\n",
    "\n",
    "- **Max (Maximum)**: The latest year in the dataset is 2019.\n"
   ]
  },
  {
   "cell_type": "code",
   "execution_count": 6,
   "id": "5539835b",
   "metadata": {
    "execution": {
     "iopub.execute_input": "2024-03-19T06:22:34.948072Z",
     "iopub.status.busy": "2024-03-19T06:22:34.947597Z",
     "iopub.status.idle": "2024-03-19T06:22:34.956936Z",
     "shell.execute_reply": "2024-03-19T06:22:34.955495Z"
    },
    "papermill": {
     "duration": 0.026563,
     "end_time": "2024-03-19T06:22:34.959470",
     "exception": false,
     "start_time": "2024-03-19T06:22:34.932907",
     "status": "completed"
    },
    "tags": []
   },
   "outputs": [
    {
     "data": {
      "text/plain": [
       "Index(['Code', 'Year', 'Age-standardized suicide rate - Sex: both sexes'], dtype='object')"
      ]
     },
     "execution_count": 6,
     "metadata": {},
     "output_type": "execute_result"
    }
   ],
   "source": [
    "suicide_data.columns"
   ]
  },
  {
   "cell_type": "code",
   "execution_count": 7,
   "id": "b955c46e",
   "metadata": {
    "execution": {
     "iopub.execute_input": "2024-03-19T06:22:34.986520Z",
     "iopub.status.busy": "2024-03-19T06:22:34.986033Z",
     "iopub.status.idle": "2024-03-19T06:22:34.994372Z",
     "shell.execute_reply": "2024-03-19T06:22:34.992980Z"
    },
    "papermill": {
     "duration": 0.024931,
     "end_time": "2024-03-19T06:22:34.996885",
     "exception": false,
     "start_time": "2024-03-19T06:22:34.971954",
     "status": "completed"
    },
    "tags": []
   },
   "outputs": [
    {
     "data": {
      "text/plain": [
       "11628"
      ]
     },
     "execution_count": 7,
     "metadata": {},
     "output_type": "execute_result"
    }
   ],
   "source": [
    "suicide_data.size"
   ]
  },
  {
   "cell_type": "code",
   "execution_count": 8,
   "id": "fcca165c",
   "metadata": {
    "execution": {
     "iopub.execute_input": "2024-03-19T06:22:35.025507Z",
     "iopub.status.busy": "2024-03-19T06:22:35.024973Z",
     "iopub.status.idle": "2024-03-19T06:22:35.033473Z",
     "shell.execute_reply": "2024-03-19T06:22:35.031850Z"
    },
    "papermill": {
     "duration": 0.025582,
     "end_time": "2024-03-19T06:22:35.036078",
     "exception": false,
     "start_time": "2024-03-19T06:22:35.010496",
     "status": "completed"
    },
    "tags": []
   },
   "outputs": [
    {
     "data": {
      "text/plain": [
       "(3876, 3)"
      ]
     },
     "execution_count": 8,
     "metadata": {},
     "output_type": "execute_result"
    }
   ],
   "source": [
    "suicide_data.shape"
   ]
  },
  {
   "cell_type": "code",
   "execution_count": 9,
   "id": "edf3e458",
   "metadata": {
    "execution": {
     "iopub.execute_input": "2024-03-19T06:22:35.063781Z",
     "iopub.status.busy": "2024-03-19T06:22:35.063355Z",
     "iopub.status.idle": "2024-03-19T06:22:35.073790Z",
     "shell.execute_reply": "2024-03-19T06:22:35.072299Z"
    },
    "papermill": {
     "duration": 0.027822,
     "end_time": "2024-03-19T06:22:35.076509",
     "exception": false,
     "start_time": "2024-03-19T06:22:35.048687",
     "status": "completed"
    },
    "tags": []
   },
   "outputs": [
    {
     "data": {
      "text/plain": [
       "Code                                               0\n",
       "Year                                               0\n",
       "Age-standardized suicide rate - Sex: both sexes    0\n",
       "dtype: int64"
      ]
     },
     "execution_count": 9,
     "metadata": {},
     "output_type": "execute_result"
    }
   ],
   "source": [
    "suicide_data.isna().sum()"
   ]
  },
  {
   "cell_type": "code",
   "execution_count": 10,
   "id": "ce47a03c",
   "metadata": {
    "execution": {
     "iopub.execute_input": "2024-03-19T06:22:35.105002Z",
     "iopub.status.busy": "2024-03-19T06:22:35.104620Z",
     "iopub.status.idle": "2024-03-19T06:22:35.115204Z",
     "shell.execute_reply": "2024-03-19T06:22:35.113845Z"
    },
    "papermill": {
     "duration": 0.028499,
     "end_time": "2024-03-19T06:22:35.117787",
     "exception": false,
     "start_time": "2024-03-19T06:22:35.089288",
     "status": "completed"
    },
    "tags": []
   },
   "outputs": [
    {
     "data": {
      "text/plain": [
       "False"
      ]
     },
     "execution_count": 10,
     "metadata": {},
     "output_type": "execute_result"
    }
   ],
   "source": [
    "suicide_data.duplicated().any()"
   ]
  },
  {
   "cell_type": "markdown",
   "id": "92fb1119",
   "metadata": {
    "papermill": {
     "duration": 0.013194,
     "end_time": "2024-03-19T06:22:35.144118",
     "exception": false,
     "start_time": "2024-03-19T06:22:35.130924",
     "status": "completed"
    },
    "tags": []
   },
   "source": [
    "# EDA"
   ]
  },
  {
   "cell_type": "code",
   "execution_count": 11,
   "id": "2483b79b",
   "metadata": {
    "execution": {
     "iopub.execute_input": "2024-03-19T06:22:35.173356Z",
     "iopub.status.busy": "2024-03-19T06:22:35.172970Z",
     "iopub.status.idle": "2024-03-19T06:22:35.185378Z",
     "shell.execute_reply": "2024-03-19T06:22:35.183928Z"
    },
    "papermill": {
     "duration": 0.030353,
     "end_time": "2024-03-19T06:22:35.188049",
     "exception": false,
     "start_time": "2024-03-19T06:22:35.157696",
     "status": "completed"
    },
    "tags": []
   },
   "outputs": [],
   "source": [
    "suicide_data['Age-standardized suicide rate - Sex: both sexes'] = (\n",
    "    suicide_data['Age-standardized suicide rate - Sex: both sexes']\n",
    "    .str.replace('.', '')  # Remove all periods\n",
    "    .str.replace(',', '.')  # Replace commas with a period if necessary\n",
    "    .astype(float)\n",
    ")"
   ]
  },
  {
   "cell_type": "code",
   "execution_count": 12,
   "id": "b33a2373",
   "metadata": {
    "execution": {
     "iopub.execute_input": "2024-03-19T06:22:35.217494Z",
     "iopub.status.busy": "2024-03-19T06:22:35.217047Z",
     "iopub.status.idle": "2024-03-19T06:22:35.230346Z",
     "shell.execute_reply": "2024-03-19T06:22:35.228954Z"
    },
    "papermill": {
     "duration": 0.031785,
     "end_time": "2024-03-19T06:22:35.233136",
     "exception": false,
     "start_time": "2024-03-19T06:22:35.201351",
     "status": "completed"
    },
    "tags": []
   },
   "outputs": [
    {
     "data": {
      "text/plain": [
       "Code\n",
       "0      196\n",
       "BLZ     20\n",
       "COM     20\n",
       "SVK     20\n",
       "ISL     20\n",
       "      ... \n",
       "MDA     20\n",
       "SOM     20\n",
       "BFA     20\n",
       "TGO     20\n",
       "SYC     20\n",
       "Name: count, Length: 185, dtype: int64"
      ]
     },
     "execution_count": 12,
     "metadata": {},
     "output_type": "execute_result"
    }
   ],
   "source": [
    "suicide_data['Code'].value_counts()"
   ]
  },
  {
   "cell_type": "markdown",
   "id": "a39e4330",
   "metadata": {
    "papermill": {
     "duration": 0.013002,
     "end_time": "2024-03-19T06:22:35.260186",
     "exception": false,
     "start_time": "2024-03-19T06:22:35.247184",
     "status": "completed"
    },
    "tags": []
   },
   "source": [
    " DataFrame are showing some country codes with a significantly higher count than others. Specifically, there is a code '0' with 196 occurrences, which is likely incorrect or represents missing or aggregated data"
   ]
  },
  {
   "cell_type": "code",
   "execution_count": 13,
   "id": "0bdd2354",
   "metadata": {
    "execution": {
     "iopub.execute_input": "2024-03-19T06:22:35.288733Z",
     "iopub.status.busy": "2024-03-19T06:22:35.288253Z",
     "iopub.status.idle": "2024-03-19T06:22:35.306745Z",
     "shell.execute_reply": "2024-03-19T06:22:35.305535Z"
    },
    "papermill": {
     "duration": 0.035777,
     "end_time": "2024-03-19T06:22:35.309242",
     "exception": false,
     "start_time": "2024-03-19T06:22:35.273465",
     "status": "completed"
    },
    "tags": []
   },
   "outputs": [
    {
     "data": {
      "text/plain": [
       "<bound method NDFrame.head of                       Code  Year  \\\n",
       "Entity                             \n",
       "Western Pacific          0  2000   \n",
       "South-East Asia          0  2000   \n",
       "Low-income               0  2000   \n",
       "Upper-middle-income      0  2000   \n",
       "Lower-middle-income      0  2000   \n",
       "...                    ...   ...   \n",
       "Eastern Mediterranean    0  2019   \n",
       "South-East Asia          0  2019   \n",
       "Africa                   0  2019   \n",
       "Europe                   0  2019   \n",
       "Upper-middle-income      0  2019   \n",
       "\n",
       "                       Age-standardized suicide rate - Sex: both sexes  \n",
       "Entity                                                                  \n",
       "Western Pacific                                                14043.0  \n",
       "South-East Asia                                                15108.0  \n",
       "Low-income                                                    135735.0  \n",
       "Upper-middle-income                                           144054.0  \n",
       "Lower-middle-income                                           150484.0  \n",
       "...                                                                ...  \n",
       "Eastern Mediterranean                                             64.0  \n",
       "South-East Asia                                               102034.0  \n",
       "Africa                                                        112471.0  \n",
       "Europe                                                        105011.0  \n",
       "Upper-middle-income                                              728.0  \n",
       "\n",
       "[196 rows x 3 columns]>"
      ]
     },
     "execution_count": 13,
     "metadata": {},
     "output_type": "execute_result"
    }
   ],
   "source": [
    "# Investigate rows where 'Code' is '0'\n",
    "suspect_rows = suicide_data[suicide_data['Code'] == '0']\n",
    "suspect_rows.head"
   ]
  },
  {
   "cell_type": "code",
   "execution_count": 14,
   "id": "cd85814a",
   "metadata": {
    "execution": {
     "iopub.execute_input": "2024-03-19T06:22:35.338997Z",
     "iopub.status.busy": "2024-03-19T06:22:35.338504Z",
     "iopub.status.idle": "2024-03-19T06:22:35.350030Z",
     "shell.execute_reply": "2024-03-19T06:22:35.348502Z"
    },
    "papermill": {
     "duration": 0.030104,
     "end_time": "2024-03-19T06:22:35.353186",
     "exception": false,
     "start_time": "2024-03-19T06:22:35.323082",
     "status": "completed"
    },
    "tags": []
   },
   "outputs": [
    {
     "data": {
      "text/plain": [
       "array(['BLZ', 'USA', 'UZB', 'IRL', 'DJI', 'PAK', 'GMB', 'DEU', 'SLE',\n",
       "       'LUX', '0', 'CHN', 'POL', 'CHE', 'SLB', 'CMR', 'BDI', 'LKA', 'LSO',\n",
       "       'ATG', 'SYR', 'HND', 'KWT', 'MYS', 'MLT', 'ARE', 'ARG', 'COL',\n",
       "       'LBY', 'MDV', 'BHR', 'IRN', 'JAM', 'JOR', 'BRB', 'GEO', 'TJK',\n",
       "       'LCA', 'TUN', 'DOM', 'PAN', 'NLD', 'GRD', 'SWE', 'NOR', 'CZE',\n",
       "       'GTM', 'TKM', 'KOR', 'OWID_WRL', 'BGR', 'SEN', 'COD', 'URY', 'BEN',\n",
       "       'TZA', 'CUB', 'TCD', 'KEN', 'FRA', 'AUT', 'TTO', 'WSM', 'HRV',\n",
       "       'MDA', 'SOM', 'BFA', 'TGO', 'GNB', 'AGO', 'KGZ', 'JPN', 'CPV',\n",
       "       'BEL', 'ETH', 'SRB', 'MNE', 'IND', 'MWI', 'GNQ', 'GAB', 'ZWE',\n",
       "       'MOZ', 'UGA', 'FIN', 'VUT', 'ERI', 'MNG', 'CIV', 'ZMB', 'COG',\n",
       "       'SUR', 'EST', 'RWA', 'SVN', 'ZAF', 'HUN', 'NAM', 'FSM', 'LVA',\n",
       "       'CAF', 'UKR', 'PRK', 'KIR', 'GUY', 'BLR', 'KAZ', 'SWZ', 'LTU',\n",
       "       'BWA', 'RUS', 'ROU', 'NZL', 'SGP', 'MUS', 'DNK', 'CHL', 'THA',\n",
       "       'SVK', 'ISL', 'FJI', 'CAN', 'HTI', 'MDG', 'MAR', 'AUS', 'NPL',\n",
       "       'COM', 'BRN', 'CYP', 'STP', 'PHL', 'BHS', 'PNG', 'GRC', 'LBN',\n",
       "       'ARM', 'AZE', 'PER', 'EGY', 'PRY', 'IDN', 'SAU', 'MEX', 'TUR',\n",
       "       'BRA', 'DZA', 'TLS', 'TON', 'MMR', 'ALB', 'IRQ', 'PRT', 'ITA',\n",
       "       'SDN', 'NIC', 'VEN', 'MRT', 'VCT', 'ESP', 'OMN', 'SLV', 'ISR',\n",
       "       'KHM', 'ECU', 'CRI', 'BGD', 'BTN', 'VNM', 'QAT', 'AFG', 'GBR',\n",
       "       'SSD', 'BIH', 'BOL', 'YEM', 'LAO', 'MKD', 'MLI', 'LBR', 'NGA',\n",
       "       'NER', 'GIN', 'GHA', 'SYC'], dtype=object)"
      ]
     },
     "execution_count": 14,
     "metadata": {},
     "output_type": "execute_result"
    }
   ],
   "source": [
    "suicide_data['Code'].unique()"
   ]
  },
  {
   "cell_type": "code",
   "execution_count": 15,
   "id": "7e292da0",
   "metadata": {
    "execution": {
     "iopub.execute_input": "2024-03-19T06:22:35.382694Z",
     "iopub.status.busy": "2024-03-19T06:22:35.382261Z",
     "iopub.status.idle": "2024-03-19T06:22:35.389497Z",
     "shell.execute_reply": "2024-03-19T06:22:35.388291Z"
    },
    "papermill": {
     "duration": 0.024912,
     "end_time": "2024-03-19T06:22:35.392044",
     "exception": false,
     "start_time": "2024-03-19T06:22:35.367132",
     "status": "completed"
    },
    "tags": []
   },
   "outputs": [],
   "source": [
    "suicide_data = suicide_data.reset_index()\n"
   ]
  },
  {
   "cell_type": "code",
   "execution_count": 16,
   "id": "ca4f49b1",
   "metadata": {
    "execution": {
     "iopub.execute_input": "2024-03-19T06:22:35.422532Z",
     "iopub.status.busy": "2024-03-19T06:22:35.422114Z",
     "iopub.status.idle": "2024-03-19T06:22:35.431802Z",
     "shell.execute_reply": "2024-03-19T06:22:35.430689Z"
    },
    "papermill": {
     "duration": 0.028806,
     "end_time": "2024-03-19T06:22:35.434288",
     "exception": false,
     "start_time": "2024-03-19T06:22:35.405482",
     "status": "completed"
    },
    "tags": []
   },
   "outputs": [
    {
     "data": {
      "text/plain": [
       "array(['Belize', 'United States', 'Uzbekistan', 'Ireland', 'Djibouti',\n",
       "       'Pakistan', 'Gambia', 'Germany', 'Sierra Leone', 'Luxembourg',\n",
       "       'Western Pacific', 'China', 'South-East Asia', 'Poland',\n",
       "       'Switzerland', 'Solomon Islands', 'Cameroon', 'Burundi',\n",
       "       'Sri Lanka', 'Lesotho', 'Antigua and Barbuda', 'Syria', 'Honduras',\n",
       "       'Kuwait', 'Malaysia', 'Malta', 'United Arab Emirates', 'Argentina',\n",
       "       'Colombia', 'Libya', 'Maldives', 'Bahrain', 'Iran', 'Jamaica',\n",
       "       'Jordan', 'Barbados', 'Georgia', 'Tajikistan', 'Saint Lucia',\n",
       "       'Tunisia', 'Dominican Republic', 'Panama', 'Netherlands',\n",
       "       'Grenada', 'Sweden', 'Norway', 'Czechia', 'Guatemala',\n",
       "       'Low-income', 'Turkmenistan', 'South Korea', 'World', 'Bulgaria',\n",
       "       'Upper-middle-income', 'Senegal', 'Democratic Republic of Congo',\n",
       "       'Uruguay', 'Benin', 'Lower-middle-income', 'Tanzania', 'Africa',\n",
       "       'Cuba', 'Chad', 'Kenya', 'France', 'Austria',\n",
       "       'Trinidad and Tobago', 'Samoa', 'Croatia', 'Moldova', 'Somalia',\n",
       "       'Burkina Faso', 'Togo', 'Guinea-Bissau', 'Angola', 'Kyrgyzstan',\n",
       "       'Japan', 'Cape Verde', 'Belgium', 'Ethiopia', 'Serbia',\n",
       "       'Montenegro', 'India', 'Malawi', 'Equatorial Guinea', 'Gabon',\n",
       "       'Europe', 'Zimbabwe', 'Mozambique', 'Uganda', 'Finland', 'Vanuatu',\n",
       "       'Eritrea', 'Mongolia', \"Cote d'Ivoire\", 'Zambia', 'Congo',\n",
       "       'Suriname', 'Estonia', 'Rwanda', 'Slovenia', 'South Africa',\n",
       "       'Hungary', 'Namibia', 'Micronesia (country)', 'Latvia',\n",
       "       'Central African Republic', 'Ukraine', 'North Korea', 'Kiribati',\n",
       "       'Guyana', 'Belarus', 'Kazakhstan', 'Eswatini', 'Lithuania',\n",
       "       'Botswana', 'Russia', 'Romania', 'New Zealand', 'Singapore',\n",
       "       'Mauritius', 'Denmark', 'Chile', 'Thailand', 'Slovakia', 'Iceland',\n",
       "       'Fiji', 'Canada', 'Haiti', 'Madagascar', 'Morocco', 'Australia',\n",
       "       'Nepal', 'Comoros', 'High-income', 'Brunei', 'Cyprus',\n",
       "       'Sao Tome and Principe', 'Philippines', 'Bahamas',\n",
       "       'Papua New Guinea', 'Greece', 'Lebanon', 'Armenia', 'Azerbaijan',\n",
       "       'Peru', 'Egypt', 'Paraguay', 'Indonesia', 'Saudi Arabia', 'Mexico',\n",
       "       'Turkey', 'Brazil', 'Algeria', 'East Timor', 'Tonga', 'Myanmar',\n",
       "       'Albania', 'Iraq', 'Portugal', 'Italy', 'Sudan', 'Nicaragua',\n",
       "       'Venezuela', 'Mauritania', 'Saint Vincent and the Grenadines',\n",
       "       'Spain', 'Oman', 'El Salvador', 'Israel', 'Cambodia', 'Ecuador',\n",
       "       'Costa Rica', 'Bangladesh', 'Bhutan', 'Vietnam', 'Qatar',\n",
       "       'Eastern Mediterranean', 'Afghanistan', 'Americas',\n",
       "       'United Kingdom', 'South Sudan', 'Bosnia and Herzegovina',\n",
       "       'Bolivia', 'Yemen', 'Laos', 'North Macedonia', 'Mali', 'Liberia',\n",
       "       'Nigeria', 'Niger', 'Guinea', 'Ghana', 'Seychelles'], dtype=object)"
      ]
     },
     "execution_count": 16,
     "metadata": {},
     "output_type": "execute_result"
    }
   ],
   "source": [
    "suicide_data['Entity'].unique()"
   ]
  },
  {
   "cell_type": "code",
   "execution_count": 17,
   "id": "b2e5d5f8",
   "metadata": {
    "execution": {
     "iopub.execute_input": "2024-03-19T06:22:35.464998Z",
     "iopub.status.busy": "2024-03-19T06:22:35.464531Z",
     "iopub.status.idle": "2024-03-19T06:22:54.647990Z",
     "shell.execute_reply": "2024-03-19T06:22:54.646006Z"
    },
    "papermill": {
     "duration": 19.20246,
     "end_time": "2024-03-19T06:22:54.651292",
     "exception": false,
     "start_time": "2024-03-19T06:22:35.448832",
     "status": "completed"
    },
    "tags": []
   },
   "outputs": [
    {
     "name": "stdout",
     "output_type": "stream",
     "text": [
      "Collecting pycountry\r\n",
      "  Downloading pycountry-23.12.11-py3-none-any.whl.metadata (12 kB)\r\n",
      "Downloading pycountry-23.12.11-py3-none-any.whl (6.2 MB)\r\n",
      "\u001b[2K   \u001b[90m━━━━━━━━━━━━━━━━━━━━━━━━━━━━━━━━━━━━━━━━\u001b[0m \u001b[32m6.2/6.2 MB\u001b[0m \u001b[31m47.3 MB/s\u001b[0m eta \u001b[36m0:00:00\u001b[0m\r\n",
      "\u001b[?25hInstalling collected packages: pycountry\r\n",
      "Successfully installed pycountry-23.12.11\r\n",
      "Note: you may need to restart the kernel to use updated packages.\n"
     ]
    }
   ],
   "source": [
    "pip install pycountry\n"
   ]
  },
  {
   "cell_type": "code",
   "execution_count": 18,
   "id": "1800ab0e",
   "metadata": {
    "execution": {
     "iopub.execute_input": "2024-03-19T06:22:54.683400Z",
     "iopub.status.busy": "2024-03-19T06:22:54.682938Z",
     "iopub.status.idle": "2024-03-19T06:22:54.782825Z",
     "shell.execute_reply": "2024-03-19T06:22:54.781474Z"
    },
    "papermill": {
     "duration": 0.119861,
     "end_time": "2024-03-19T06:22:54.785855",
     "exception": false,
     "start_time": "2024-03-19T06:22:54.665994",
     "status": "completed"
    },
    "tags": []
   },
   "outputs": [
    {
     "name": "stdout",
     "output_type": "stream",
     "text": [
      "             Entity  Code\n",
      "0            Belize   BLZ\n",
      "1     United States   USA\n",
      "2        Uzbekistan   UZB\n",
      "3           Ireland   IRL\n",
      "4          Djibouti   DJI\n",
      "5          Pakistan   PAK\n",
      "6            Gambia   GMB\n",
      "7           Germany   DEU\n",
      "8      Sierra Leone   SLE\n",
      "9        Luxembourg   LUX\n",
      "10  Western Pacific  None\n",
      "11            China   CHN\n",
      "12  South-East Asia  None\n",
      "13           Poland   POL\n",
      "14      Switzerland   CHE\n",
      "15  Solomon Islands   SLB\n",
      "16         Cameroon   CMR\n",
      "17          Burundi   BDI\n",
      "18        Sri Lanka   LKA\n",
      "19          Lesotho   LSO\n"
     ]
    }
   ],
   "source": [
    "import pycountry\n",
    "import pandas as pd\n",
    "\n",
    "# Function to retrieve the ISO Alpha-3 country code\n",
    "def get_country_code(country_name):\n",
    "    try:\n",
    "        return pycountry.countries.lookup(country_name).alpha_3\n",
    "    except LookupError:\n",
    "        # Country not found in the pycountry database\n",
    "        return None\n",
    "\n",
    "# Reset index if 'Entity' is an index\n",
    "suicide_data.reset_index(inplace=True)\n",
    "\n",
    "# Apply the function to the 'Entity' column in the suicide_data DataFrame\n",
    "suicide_data['Code'] = suicide_data['Entity'].apply(get_country_code)\n",
    "\n",
    "# Check the resulting DataFrame\n",
    "print(suicide_data[['Entity', 'Code']].head(20))\n"
   ]
  },
  {
   "cell_type": "code",
   "execution_count": 19,
   "id": "58c0ad65",
   "metadata": {
    "execution": {
     "iopub.execute_input": "2024-03-19T06:22:54.818802Z",
     "iopub.status.busy": "2024-03-19T06:22:54.818279Z",
     "iopub.status.idle": "2024-03-19T06:22:54.831551Z",
     "shell.execute_reply": "2024-03-19T06:22:54.829871Z"
    },
    "papermill": {
     "duration": 0.03312,
     "end_time": "2024-03-19T06:22:54.834409",
     "exception": false,
     "start_time": "2024-03-19T06:22:54.801289",
     "status": "completed"
    },
    "tags": []
   },
   "outputs": [
    {
     "data": {
      "text/plain": [
       "Code\n",
       "BLZ    20\n",
       "COM    20\n",
       "ISL    20\n",
       "FJI    20\n",
       "CAN    20\n",
       "       ..\n",
       "HRV    20\n",
       "MDA    20\n",
       "SOM    20\n",
       "BFA    20\n",
       "SYC    20\n",
       "Name: count, Length: 175, dtype: int64"
      ]
     },
     "execution_count": 19,
     "metadata": {},
     "output_type": "execute_result"
    }
   ],
   "source": [
    "suicide_data['Code'].value_counts()"
   ]
  },
  {
   "cell_type": "code",
   "execution_count": 20,
   "id": "c2163db8",
   "metadata": {
    "execution": {
     "iopub.execute_input": "2024-03-19T06:22:54.867160Z",
     "iopub.status.busy": "2024-03-19T06:22:54.866695Z",
     "iopub.status.idle": "2024-03-19T06:22:54.876412Z",
     "shell.execute_reply": "2024-03-19T06:22:54.875057Z"
    },
    "papermill": {
     "duration": 0.029424,
     "end_time": "2024-03-19T06:22:54.879157",
     "exception": false,
     "start_time": "2024-03-19T06:22:54.849733",
     "status": "completed"
    },
    "tags": []
   },
   "outputs": [
    {
     "data": {
      "text/plain": [
       "376"
      ]
     },
     "execution_count": 20,
     "metadata": {},
     "output_type": "execute_result"
    }
   ],
   "source": [
    "suicide_data['Code'].isnull().sum()"
   ]
  },
  {
   "cell_type": "code",
   "execution_count": 21,
   "id": "bbe7cb51",
   "metadata": {
    "execution": {
     "iopub.execute_input": "2024-03-19T06:22:54.912267Z",
     "iopub.status.busy": "2024-03-19T06:22:54.911793Z",
     "iopub.status.idle": "2024-03-19T06:22:54.921770Z",
     "shell.execute_reply": "2024-03-19T06:22:54.920288Z"
    },
    "papermill": {
     "duration": 0.030279,
     "end_time": "2024-03-19T06:22:54.925057",
     "exception": false,
     "start_time": "2024-03-19T06:22:54.894778",
     "status": "completed"
    },
    "tags": []
   },
   "outputs": [
    {
     "name": "stdout",
     "output_type": "stream",
     "text": [
      "Entities with no corresponding ISO code: ['Western Pacific' 'South-East Asia' 'Low-income' 'World'\n",
      " 'Upper-middle-income' 'Democratic Republic of Congo'\n",
      " 'Lower-middle-income' 'Africa' 'Cape Verde' 'Europe' \"Cote d'Ivoire\"\n",
      " 'Micronesia (country)' 'Russia' 'High-income' 'Brunei' 'Turkey'\n",
      " 'East Timor' 'Eastern Mediterranean' 'Americas']\n"
     ]
    }
   ],
   "source": [
    "# To get a list of codes that have '0' or appear as `None` after the mapping\n",
    "missing_codes = suicide_data[suicide_data['Code'].isnull()]['Entity'].unique()\n",
    "print(\"Entities with no corresponding ISO code:\", missing_codes)\n"
   ]
  },
  {
   "cell_type": "code",
   "execution_count": 22,
   "id": "91481f78",
   "metadata": {
    "execution": {
     "iopub.execute_input": "2024-03-19T06:22:54.958566Z",
     "iopub.status.busy": "2024-03-19T06:22:54.958073Z",
     "iopub.status.idle": "2024-03-19T06:22:54.967631Z",
     "shell.execute_reply": "2024-03-19T06:22:54.966184Z"
    },
    "papermill": {
     "duration": 0.029864,
     "end_time": "2024-03-19T06:22:54.970708",
     "exception": false,
     "start_time": "2024-03-19T06:22:54.940844",
     "status": "completed"
    },
    "tags": []
   },
   "outputs": [
    {
     "name": "stdout",
     "output_type": "stream",
     "text": [
      "Entities with '0' as code: []\n"
     ]
    }
   ],
   "source": [
    "zero_codes = suicide_data[suicide_data['Code'] == '0']['Entity'].unique()\n",
    "print(\"Entities with '0' as code:\", zero_codes)\n"
   ]
  },
  {
   "cell_type": "code",
   "execution_count": 23,
   "id": "0d26927d",
   "metadata": {
    "execution": {
     "iopub.execute_input": "2024-03-19T06:22:55.004267Z",
     "iopub.status.busy": "2024-03-19T06:22:55.003806Z",
     "iopub.status.idle": "2024-03-19T06:22:55.016160Z",
     "shell.execute_reply": "2024-03-19T06:22:55.014892Z"
    },
    "papermill": {
     "duration": 0.032229,
     "end_time": "2024-03-19T06:22:55.018650",
     "exception": false,
     "start_time": "2024-03-19T06:22:54.986421",
     "status": "completed"
    },
    "tags": []
   },
   "outputs": [
    {
     "data": {
      "text/plain": [
       "Year\n",
       "2000    194\n",
       "2001    194\n",
       "2018    194\n",
       "2017    194\n",
       "2016    194\n",
       "2015    194\n",
       "2014    194\n",
       "2013    194\n",
       "2012    194\n",
       "2011    194\n",
       "2010    194\n",
       "2009    194\n",
       "2008    194\n",
       "2007    194\n",
       "2006    194\n",
       "2005    194\n",
       "2004    194\n",
       "2003    194\n",
       "2002    194\n",
       "2019    190\n",
       "Name: count, dtype: int64"
      ]
     },
     "execution_count": 23,
     "metadata": {},
     "output_type": "execute_result"
    }
   ],
   "source": [
    "suicide_data['Year'].value_counts()"
   ]
  },
  {
   "cell_type": "code",
   "execution_count": 24,
   "id": "672763c0",
   "metadata": {
    "execution": {
     "iopub.execute_input": "2024-03-19T06:22:55.053757Z",
     "iopub.status.busy": "2024-03-19T06:22:55.053283Z",
     "iopub.status.idle": "2024-03-19T06:22:55.475418Z",
     "shell.execute_reply": "2024-03-19T06:22:55.474546Z"
    },
    "papermill": {
     "duration": 0.442814,
     "end_time": "2024-03-19T06:22:55.478569",
     "exception": false,
     "start_time": "2024-03-19T06:22:55.035755",
     "status": "completed"
    },
    "tags": []
   },
   "outputs": [
    {
     "data": {
      "image/png": "[encoded data removed]",
      "text/plain": [
       "<Figure size 1000x500 with 1 Axes>"
      ]
     },
     "metadata": {},
     "output_type": "display_data"
    }
   ],
   "source": [
    "import matplotlib.pyplot as plt\n",
    "\n",
    "# Convert 'Year' to integer if it's not already\n",
    "suicide_data['Year'] = suicide_data['Year'].astype(int)\n",
    "\n",
    "# Calculate mean suicide rates by year, assuming you've filtered out the non-country data already\n",
    "mean_rates_by_year = suicide_data.groupby('Year')['Age-standardized suicide rate - Sex: both sexes'].mean()\n",
    "\n",
    "# Generate the plot with the 'Year' as integer values\n",
    "plt.figure(figsize=(10, 5))\n",
    "plt.plot(mean_rates_by_year.index.astype(str), mean_rates_by_year.values, marker='o')\n",
    "\n",
    "plt.title('Global Mean Age-Standardized Suicide Rate Over Time')\n",
    "plt.xlabel('Year')\n",
    "plt.ylabel('Mean Suicide Rate (per 100,000 individuals)')\n",
    "plt.xticks(rotation=45)  # Rotate x-axis labels if necessary for better readability\n",
    "plt.show()\n"
   ]
  },
  {
   "cell_type": "code",
   "execution_count": 25,
   "id": "1220578d",
   "metadata": {
    "execution": {
     "iopub.execute_input": "2024-03-19T06:22:55.516270Z",
     "iopub.status.busy": "2024-03-19T06:22:55.514913Z",
     "iopub.status.idle": "2024-03-19T06:22:55.529586Z",
     "shell.execute_reply": "2024-03-19T06:22:55.527583Z"
    },
    "papermill": {
     "duration": 0.036815,
     "end_time": "2024-03-19T06:22:55.532817",
     "exception": false,
     "start_time": "2024-03-19T06:22:55.496002",
     "status": "completed"
    },
    "tags": []
   },
   "outputs": [
    {
     "name": "stdout",
     "output_type": "stream",
     "text": [
      "Highest suicide rates:\n",
      "Entity\n",
      "Belarus     286142.30\n",
      "Russia      319670.75\n",
      "Guyana      324817.15\n",
      "Eswatini    453500.20\n",
      "Lesotho     717783.10\n",
      "Name: Age-standardized suicide rate - Sex: both sexes, dtype: float64\n",
      "\n",
      "Lowest suicide rates:\n",
      "Entity\n",
      "Syria                  147.00\n",
      "Brunei                 181.45\n",
      "Jamaica                197.40\n",
      "Kuwait                 199.00\n",
      "Antigua and Barbuda    199.65\n",
      "Name: Age-standardized suicide rate - Sex: both sexes, dtype: float64\n"
     ]
    }
   ],
   "source": [
    "# Calculate mean suicide rates by country and sort\n",
    "mean_rates_by_country = suicide_data.groupby('Entity')['Age-standardized suicide rate - Sex: both sexes'].mean().sort_values()\n",
    "\n",
    "# Top 5 countries with the highest suicide rates\n",
    "print(\"Highest suicide rates:\")\n",
    "print(mean_rates_by_country.tail(5))\n",
    "\n",
    "# Top 5 countries with the lowest suicide rates\n",
    "print(\"\\nLowest suicide rates:\")\n",
    "print(mean_rates_by_country.head(5))\n"
   ]
  },
  {
   "cell_type": "code",
   "execution_count": 26,
   "id": "8308869a",
   "metadata": {
    "execution": {
     "iopub.execute_input": "2024-03-19T06:22:55.570554Z",
     "iopub.status.busy": "2024-03-19T06:22:55.569171Z",
     "iopub.status.idle": "2024-03-19T06:22:55.586843Z",
     "shell.execute_reply": "2024-03-19T06:22:55.585004Z"
    },
    "papermill": {
     "duration": 0.039385,
     "end_time": "2024-03-19T06:22:55.589633",
     "exception": false,
     "start_time": "2024-03-19T06:22:55.550248",
     "status": "completed"
    },
    "tags": []
   },
   "outputs": [
    {
     "name": "stdout",
     "output_type": "stream",
     "text": [
      "Regional suicide rates:\n",
      "Entity\n",
      "Syria                       147.00\n",
      "Jamaica                     197.40\n",
      "Kuwait                      199.00\n",
      "Antigua and Barbuda         199.65\n",
      "Sao Tome and Principe       201.35\n",
      "                           ...    \n",
      "Kazakhstan               278490.55\n",
      "Belarus                  286142.30\n",
      "Guyana                   324817.15\n",
      "Eswatini                 453500.20\n",
      "Lesotho                  717783.10\n",
      "Name: Age-standardized suicide rate - Sex: both sexes, Length: 175, dtype: float64\n"
     ]
    }
   ],
   "source": [
    "# This assumes that non-country entities like regions have been assigned unique identifiers in the 'Code' column\n",
    "regional_rates = suicide_data[suicide_data['Code'].str.len() == 3].groupby('Entity')['Age-standardized suicide rate - Sex: both sexes'].mean()\n",
    "print(\"Regional suicide rates:\")\n",
    "print(regional_rates.sort_values())\n"
   ]
  },
  {
   "cell_type": "code",
   "execution_count": 27,
   "id": "dfd3a01b",
   "metadata": {
    "execution": {
     "iopub.execute_input": "2024-03-19T06:22:55.626618Z",
     "iopub.status.busy": "2024-03-19T06:22:55.626059Z",
     "iopub.status.idle": "2024-03-19T06:22:55.934373Z",
     "shell.execute_reply": "2024-03-19T06:22:55.932944Z"
    },
    "papermill": {
     "duration": 0.329721,
     "end_time": "2024-03-19T06:22:55.937030",
     "exception": false,
     "start_time": "2024-03-19T06:22:55.607309",
     "status": "completed"
    },
    "tags": []
   },
   "outputs": [
    {
     "data": {
      "image/png": "[encoded data removed]",
      "text/plain": [
       "<Figure size 640x480 with 1 Axes>"
      ]
     },
     "metadata": {},
     "output_type": "display_data"
    }
   ],
   "source": [
    "import matplotlib.pyplot as plt\n",
    "\n",
    "# Calculate mean suicide rates by country and sort\n",
    "mean_rates_by_country = suicide_data.groupby('Entity')['Age-standardized suicide rate - Sex: both sexes'].mean().sort_values()\n",
    "\n",
    "# Get the top 5 countries with the highest suicide rates\n",
    "top5_highest = mean_rates_by_country.tail(5)\n",
    "\n",
    "# Plotting the highest suicide rates\n",
    "top5_highest.plot(kind='barh')\n",
    "plt.title('Top 5 Countries with the Highest Suicide Rates')\n",
    "plt.xlabel('Mean Suicide Rate (per 100,000 individuals)')\n",
    "plt.ylabel('Country')\n",
    "plt.show()\n",
    "\n"
   ]
  },
  {
   "cell_type": "code",
   "execution_count": 28,
   "id": "e2be1bfa",
   "metadata": {
    "execution": {
     "iopub.execute_input": "2024-03-19T06:22:55.974310Z",
     "iopub.status.busy": "2024-03-19T06:22:55.973805Z",
     "iopub.status.idle": "2024-03-19T06:22:56.283524Z",
     "shell.execute_reply": "2024-03-19T06:22:56.281925Z"
    },
    "papermill": {
     "duration": 0.332255,
     "end_time": "2024-03-19T06:22:56.286624",
     "exception": false,
     "start_time": "2024-03-19T06:22:55.954369",
     "status": "completed"
    },
    "tags": []
   },
   "outputs": [
    {
     "data": {
      "image/png": "[encoded data removed]",
      "text/plain": [
       "<Figure size 640x480 with 1 Axes>"
      ]
     },
     "metadata": {},
     "output_type": "display_data"
    }
   ],
   "source": [
    "top5_lowest = mean_rates_by_country.head(5)\n",
    "# Plotting the lowest suicide rates\n",
    "top5_lowest.plot(kind='barh')\n",
    "plt.title('Top 5 Countries with the Lowest Suicide Rates')\n",
    "plt.xlabel('Mean Suicide Rate (per 100,000 individuals)')\n",
    "plt.ylabel('Country')\n",
    "plt.show()\n"
   ]
  },
  {
   "cell_type": "code",
   "execution_count": null,
   "id": "ef1d744d",
   "metadata": {
    "papermill": {
     "duration": 0.018675,
     "end_time": "2024-03-19T06:22:56.323907",
     "exception": false,
     "start_time": "2024-03-19T06:22:56.305232",
     "status": "completed"
    },
    "tags": []
   },
   "outputs": [],
   "source": []
  }
 ],
 "metadata": {
  "kaggle": {
   "accelerator": "none",
   "dataSources": [
    {
     "datasetId": 4539167,
     "sourceId": 7761305,
     "sourceType": "datasetVersion"
    }
   ],
   "dockerImageVersionId": 30664,
   "isGpuEnabled": false,
   "isInternetEnabled": true,
   "language": "python",
   "sourceType": "notebook"
  },
  "kernelspec": {
   "display_name": "Python 3",
   "language": "python",
   "name": "python3"
  },
  "language_info": {
   "codemirror_mode": {
    "name": "ipython",
    "version": 3
   },
   "file_extension": ".py",
   "mimetype": "text/x-python",
   "name": "python",
   "nbconvert_exporter": "python",
   "pygments_lexer": "ipython3",
   "version": "3.10.13"
  },
  "papermill": {
   "default_parameters": {},
   "duration": 27.713986,
   "end_time": "2024-03-19T06:22:57.167531",
   "environment_variables": {},
   "exception": null,
   "input_path": "__notebook__.ipynb",
   "output_path": "__notebook__.ipynb",
   "parameters": {},
   "start_time": "2024-03-19T06:22:29.453545",
   "version": "2.5.0"
  }
 },
 "nbformat": 4,
 "nbformat_minor": 5
}
